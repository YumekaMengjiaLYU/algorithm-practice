{
 "cells": [
  {
   "cell_type": "markdown",
   "metadata": {},
   "source": [
    "# Minimum number of jumps to reach end\n",
    "Given an array of integers where each element represents the max number of steps that can be made forward from that element. Write a function to return the minimum number of jumps to reach the end of the array (starting from the first element). If an element is 0, then cannot move through that element."
   ]
  },
  {
   "cell_type": "code",
   "execution_count": 46,
   "metadata": {},
   "outputs": [],
   "source": [
    "\n",
    "\n"
   ]
  },
  {
   "cell_type": "markdown",
   "metadata": {},
   "source": [
    "## Brute Force\n"
   ]
  },
  {
   "cell_type": "code",
   "execution_count": 68,
   "metadata": {},
   "outputs": [],
   "source": [
    "\n",
    "def min_jump_brute_force(index, arr, number_of_jumps):\n",
    "    def min_jump(index, arr, number_of_jumps):\n",
    "        global max_jump \n",
    "        if (index == (len(arr) - 1)):\n",
    "            max_jump = min(max_jump, number_of_jumps)\n",
    "            return None\n",
    "        elif (index > (len(arr) - 1)):\n",
    "            return None\n",
    "        jumps = arr[index]\n",
    "        if jumps == 0:\n",
    "            return None\n",
    "        for i in range(1, jumps+1):\n",
    "            #print(\"here\")\n",
    "            min_jump(index + i, arr, number_of_jumps+1)\n",
    "        \n",
    "    min_jump(0, arr, 0)        \n",
    "    if (max_jump == float(\"inf\")):\n",
    "        print(\"Impossible\")\n",
    "        return None\n",
    "    else:\n",
    "        #print(max_jump)\n",
    "        return max_jump\n"
   ]
  },
  {
   "cell_type": "markdown",
   "metadata": {},
   "source": [
    "## Optimize on brute force solution"
   ]
  },
  {
   "cell_type": "code",
   "execution_count": 69,
   "metadata": {},
   "outputs": [
    {
     "name": "stdout",
     "output_type": "stream",
     "text": [
      "3\n"
     ]
    }
   ],
   "source": [
    "def min_jump_optimized(arr):\n",
    "    min_jumps = [0 for i in range(len(arr))]\n",
    "    if arr[0] == 0:\n",
    "        return None\n",
    "    for i in range(1, len(arr)):\n",
    "        min_jumps[i] = float('inf')\n",
    "        for j in range(0, i):\n",
    "            if i <= j + arr[j]:\n",
    "                min_jumps[i] = min(min_jumps[i], min_jumps[j]+1)\n",
    "    return min_jumps[-1]\n",
    "result = min_jump_optimized(array)\n",
    "print(result)"
   ]
  },
  {
   "cell_type": "code",
   "execution_count": 70,
   "metadata": {},
   "outputs": [
    {
     "name": "stdout",
     "output_type": "stream",
     "text": [
      "Brute force solution is 2\n",
      "Dynamic programming solution is 2\n"
     ]
    }
   ],
   "source": [
    "test_array = [2,3,1,1,4]\n",
    "max_jump = float('inf')\n",
    "print(\"Brute force solution is \" + str(min_jump_brute_force(0, test_array, 0)))\n",
    "print(\"Dynamic programming solution is \" + str(min_jump_optimized(test_array)))"
   ]
  },
  {
   "cell_type": "code",
   "execution_count": 71,
   "metadata": {},
   "outputs": [
    {
     "name": "stdout",
     "output_type": "stream",
     "text": [
      "Brute force solution is 3\n",
      "Dynamic programming solution is 3\n"
     ]
    }
   ],
   "source": [
    "test_array_2 = [1, 3, 5, 8, 9, 2, 6, 7, 6, 8, 9]\n",
    "max_jump = float('inf')\n",
    "print(\"Brute force solution is \" + str(min_jump_brute_force(0, test_array_2, 0)))\n",
    "print(\"Dynamic programming solution is \" + str(min_jump_optimized(test_array_2)))"
   ]
  },
  {
   "cell_type": "code",
   "execution_count": null,
   "metadata": {},
   "outputs": [],
   "source": []
  }
 ],
 "metadata": {
  "kernelspec": {
   "display_name": "Python 3",
   "language": "python",
   "name": "python3"
  },
  "language_info": {
   "codemirror_mode": {
    "name": "ipython",
    "version": 3
   },
   "file_extension": ".py",
   "mimetype": "text/x-python",
   "name": "python",
   "nbconvert_exporter": "python",
   "pygments_lexer": "ipython3",
   "version": "3.7.4"
  }
 },
 "nbformat": 4,
 "nbformat_minor": 2
}

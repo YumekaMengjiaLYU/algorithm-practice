{
 "cells": [
  {
   "cell_type": "markdown",
   "metadata": {},
   "source": [
    "## River Sizes\n"
   ]
  },
  {
   "cell_type": "markdown",
   "metadata": {},
   "source": [
    "Solution Using DFS - Modified from Neelam Yadav's answer https://www.geeksforgeeks.org/find-number-of-islands/"
   ]
  },
  {
   "cell_type": "code",
   "execution_count": 51,
   "metadata": {},
   "outputs": [],
   "source": [
    "graph = [\n",
    "    [1,0,0,1,0],\n",
    "    [1,0,1,0,0],\n",
    "    [0,0,1,0,1],\n",
    "    [1,0,1,0,1],\n",
    "    [1,0,1,1,0],\n",
    "]\n",
    "#def dfs(visited, graph, node):\n",
    " #   if node not in visited:\n",
    "  #      print (node)\n",
    "   #     visited.add(node)\n",
    "    #    for neighbour in graph[node]:\n",
    "     #       dfs(visited, graph, neighbour)\n",
    "#dfs(visited, graph, 'A')\n",
    "\n"
   ]
  },
  {
   "cell_type": "code",
   "execution_count": 74,
   "metadata": {},
   "outputs": [],
   "source": [
    "class Graph: \n",
    "    size = None\n",
    "    def __init__(self, row, col, g): \n",
    "        self.ROW = row \n",
    "        self.COL = col \n",
    "        self.graph = g \n",
    "  \n",
    "    # A function to check if a given cell  \n",
    "    # (row, col) can be included in DFS \n",
    "    def isSafe(self, i, j, visited): \n",
    "        # row number is in range, column number \n",
    "        # is in range and value is 1  \n",
    "        # and not yet visited \n",
    "        return (i >= 0 and i < self.ROW and \n",
    "                j >= 0 and j < self.COL and \n",
    "                not visited[i][j] and self.graph[i][j]) \n",
    "              \n",
    "  \n",
    "    # A utility function to do DFS for a 2D  \n",
    "    # boolean matrix. It only considers \n",
    "    # the 8 neighbours as adjacent vertices \n",
    "    def DFS(self, i, j, visited): \n",
    "       \n",
    "        # These arrays are used to get row and  \n",
    "        # column numbers of 8 neighbours  \n",
    "        # of a given cell \n",
    "        rowNbr = [-1, 0,1,0]; \n",
    "        colNbr = [0,-1,  0, 1]; \n",
    "          \n",
    "        # Mark this cell as visited \n",
    "        visited[i][j] = True\n",
    "        global size \n",
    "        \n",
    "        # Recur for all connected neighbours \n",
    "        for k in range(4): \n",
    "            if self.isSafe(i + rowNbr[k], j + colNbr[k], visited): \n",
    "                size += 1\n",
    "                self.DFS(i + rowNbr[k], j + colNbr[k], visited) \n",
    "                \n",
    "        \n",
    "  \n",
    "    # The main function that returns \n",
    "    # count of islands in a given boolean \n",
    "    # 2D matrix \n",
    "    def countIslands(self): \n",
    "        # Make a bool array to mark visited cells. \n",
    "        # Initially all cells are unvisited \n",
    "        visited = [[False for j in range(self.COL)]for i in range(self.ROW)] \n",
    "  \n",
    "        # Initialize count as 0 and travese  \n",
    "        # through the all cells of \n",
    "        # given matrix \n",
    "        count = 0\n",
    "        \n",
    "        size_list = []\n",
    "        for i in range(self.ROW): \n",
    "            for j in range(self.COL): \n",
    "                # If a cell with value 1 is not visited yet,  \n",
    "                # then new island found \n",
    "                if visited[i][j] == False and self.graph[i][j] == 1: \n",
    "                    # Visit all cells in this island  \n",
    "                    # and increment island count \n",
    "                    global size\n",
    "                    size = 0\n",
    "                    self.DFS(i, j, visited)\n",
    "                    size_list.append(size+1)\n",
    "                    count += 1\n",
    "  \n",
    "        return count, size_list "
   ]
  },
  {
   "cell_type": "code",
   "execution_count": 75,
   "metadata": {},
   "outputs": [
    {
     "name": "stdout",
     "output_type": "stream",
     "text": [
      "Number of islands is:\n",
      "(5, [2, 1, 5, 2, 2])\n"
     ]
    }
   ],
   "source": [
    "row = len(graph) \n",
    "col = len(graph[0]) \n",
    "\n",
    "g = Graph(row, col, graph) \n",
    "  \n",
    "print (\"Number of islands is:\")\n",
    "print (g.countIslands()) "
   ]
  },
  {
   "cell_type": "code",
   "execution_count": null,
   "metadata": {},
   "outputs": [],
   "source": []
  }
 ],
 "metadata": {
  "kernelspec": {
   "display_name": "Python 3",
   "language": "python",
   "name": "python3"
  },
  "language_info": {
   "codemirror_mode": {
    "name": "ipython",
    "version": 3
   },
   "file_extension": ".py",
   "mimetype": "text/x-python",
   "name": "python",
   "nbconvert_exporter": "python",
   "pygments_lexer": "ipython3",
   "version": "3.7.7"
  }
 },
 "nbformat": 4,
 "nbformat_minor": 4
}
